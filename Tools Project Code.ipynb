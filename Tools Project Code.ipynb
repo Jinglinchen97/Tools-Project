{
 "cells": [
  {
   "cell_type": "markdown",
   "metadata": {},
   "source": [
    "## 1. Web Crawling for Stock Related News"
   ]
  },
  {
   "cell_type": "code",
   "execution_count": null,
   "metadata": {},
   "outputs": [],
   "source": []
  },
  {
   "cell_type": "markdown",
   "metadata": {},
   "source": [
    "## 2. Scrolling Down Page to Get More New"
   ]
  },
  {
   "cell_type": "code",
   "execution_count": null,
   "metadata": {},
   "outputs": [],
   "source": []
  },
  {
   "cell_type": "markdown",
   "metadata": {},
   "source": [
    "## 3. Text Mining"
   ]
  },
  {
   "cell_type": "code",
   "execution_count": null,
   "metadata": {},
   "outputs": [],
   "source": []
  },
  {
   "cell_type": "markdown",
   "metadata": {},
   "source": [
    "## 4.  Acquiring Stock Data"
   ]
  },
  {
   "cell_type": "code",
   "execution_count": 7,
   "metadata": {},
   "outputs": [],
   "source": [
    "import bs4 as bs\n",
    "import requests\n",
    "\n",
    "def get_sp500_codes():\n",
    "    sp500 = requests.get('http://en.wikipedia.org/wiki/List_of_S%26P_500_companies')\n",
    "    soup = bs.BeautifulSoup(sp500.text, 'lxml')\n",
    "    table = soup.find('table', {'class': 'wikitable sortable'})\n",
    "    codes = []\n",
    "    for row in table.findAll('tr')[1:]:\n",
    "        code = row.findAll('td')[0].text\n",
    "        codes.append(code)\n",
    "\n",
    "    return codes"
   ]
  },
  {
   "cell_type": "code",
   "execution_count": 8,
   "metadata": {},
   "outputs": [],
   "source": [
    "stock_code = get_sp500_codes()"
   ]
  },
  {
   "cell_type": "code",
   "execution_count": null,
   "metadata": {},
   "outputs": [],
   "source": [
    "def get_sentiment(stock_code):\n",
    "    sentiment_com = []\n",
    "    sentiment_pos = []\n",
    "    sentiment_neg = []\n",
    "    try:\n",
    "        for i in stock_code:\n",
    "            all_links = get_article_link(i)\n",
    "            artical_content = get_article_content(all_links)\n",
    "            texts = artical_format(artical_content)\n",
    "            a = vader_comparison(texts)\n",
    "            a['Name'] = pd.to_datetime(a['Name'])\n",
    "            a = a.sort_values(['Name'],ascending = 0)\n",
    "            a_train = a[-round(len(a)*0.7):]\n",
    "            a_test = a[:round(len(a)*0.3)]\n",
    "            sentiment_com_tr.append(a_train.mean()['compound'])\n",
    "            sentiment_pos_tr.append(a_train.mean()['pos'])\n",
    "            sentiment_neg_tr.append(a_train.mean()['neg'])\n",
    "            sentiment_com_te.append(a_test.mean()['compound'])\n",
    "            sentiment_pos_te.append(a_test.mean()['pos'])\n",
    "            sentiment_neg_te.append(a_test.mean()['neg'])\n",
    "    except:\n",
    "        print(i)\n",
    "    return [sentiment_com_tr,sentiment_pos_tr,sentiment_neg_tr,sentiment_com_te,sentiment_pos_te,sentiment_neg_te]"
   ]
  },
  {
   "cell_type": "code",
   "execution_count": null,
   "metadata": {},
   "outputs": [],
   "source": [
    "sentiment = get_sentiment(stock_code)"
   ]
  },
  {
   "cell_type": "code",
   "execution_count": null,
   "metadata": {},
   "outputs": [],
   "source": [
    "import numpy as np\n",
    "import statsmodels.api as sm\n",
    "X = np.column_stack((sentiment[0], sentiment[1],sentiment[2]))\n",
    "X = sm.add_constant(X)\n",
    "y = stock_ret\n",
    "model = sm.OLS(y,X)\n",
    "results = model.fit()\n",
    "print(results.params)\n"
   ]
  },
  {
   "cell_type": "markdown",
   "metadata": {},
   "source": [
    "## 5. Data Visualization"
   ]
  },
  {
   "cell_type": "code",
   "execution_count": null,
   "metadata": {},
   "outputs": [],
   "source": []
  }
 ],
 "metadata": {
  "kernelspec": {
   "display_name": "Python 3",
   "language": "python",
   "name": "python3"
  },
  "language_info": {
   "codemirror_mode": {
    "name": "ipython",
    "version": 3
   },
   "file_extension": ".py",
   "mimetype": "text/x-python",
   "name": "python",
   "nbconvert_exporter": "python",
   "pygments_lexer": "ipython3",
   "version": "3.6.3"
  }
 },
 "nbformat": 4,
 "nbformat_minor": 2
}
